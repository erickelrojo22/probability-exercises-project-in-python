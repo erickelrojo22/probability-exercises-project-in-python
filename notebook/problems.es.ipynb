{
 "cells": [
  {
   "cell_type": "markdown",
   "id": "a41f3622",
   "metadata": {},
   "source": [
    "# Ejercicios de probabilidad"
   ]
  },
  {
   "cell_type": "markdown",
   "id": "a6bdbd89",
   "metadata": {},
   "source": [
    "## Ejercicio 1 \n",
    "\n",
    "Dos dados se lanzan una vez y se observa el total obtenido. Usa una simulación para encontrar la probabilidad estimada de que la puntuación sea mayor a 7 o un número par. Una simulación es una repetición del mismo experimento multiples veces para observar su comportamiento:\n",
    "\n",
    "- Ejecuta el experimento 1000 veces (lanza 2 dados 1000 veces, y suma el número de ambos dados).\n",
    "- Lleva ua cuenta de los números y las veces que la suma fue mayor a 7 o un número par.\n",
    "- Divide el número del paso 2 entre el número de iteraciones(1000)."
   ]
  },
  {
   "cell_type": "code",
   "execution_count": 2,
   "id": "8939d892",
   "metadata": {},
   "outputs": [],
   "source": [
    "# importar librerias \n",
    "import numpy as np\n",
    "import pandas as pd\n",
    "import random"
   ]
  },
  {
   "cell_type": "code",
   "execution_count": 3,
   "id": "4032838b",
   "metadata": {},
   "outputs": [
    {
     "name": "stdout",
     "output_type": "stream",
     "text": [
      "probabilidad mayor a 7 es igual a : 66.7%\n"
     ]
    }
   ],
   "source": [
    "def roll_the_dice(n_simulations = 1000):\n",
    "    count = 0\n",
    "    \n",
    "    # Each iteration of the for loop is a trial\n",
    "    for i in range(n_simulations):\n",
    "        \n",
    "        # Roll each dice\n",
    "        die1 = random.randint(1, 6)\n",
    "        die2 = random.randint(1, 6)\n",
    "        \n",
    "        # Sum the values to get the score\n",
    "        score = die1 + die2\n",
    "        \n",
    "        # Decide if we should add it to the count:\n",
    "        if (score % 2 == 0) or (score > 7):\n",
    "            count += 1\n",
    "\n",
    "    # Calculate probability\n",
    "    return count / n_simulations\n",
    "\n",
    "print(f\"probabilidad mayor a 7 es igual a : {np.round(roll_the_dice() * 100, 2)}%\")\n",
    "\n",
    "\n",
    "   \n",
    "\n",
    "\n",
    "    \n",
    "\n",
    "    \n",
    "\n",
    "\n",
    "    \n",
    "\n",
    "\n"
   ]
  },
  {
   "cell_type": "markdown",
   "id": "55732bca",
   "metadata": {},
   "source": [
    "## Ejercicio 2\n",
    "\n",
    "Una caja contiene 10 bolas blancas, 20 bolas rojas y 30 bolas verdes. Si tomamos 5 bolas de la caja reemplazándolas (tomando una bola, anotando el color y luego regresandola a la caja). Queremos saber la probabilidad de:\n",
    "\n",
    "1. Tomar 3 blancas y 2 rojas.\n",
    "2. Todas todas del mismo color.\n",
    "\n",
    "Ejecuta el experimento 1000 veces y calcula las probabilidades que mencionadas."
   ]
  },
  {
   "cell_type": "code",
   "execution_count": 4,
   "id": "23244d20",
   "metadata": {},
   "outputs": [
    {
     "name": "stdout",
     "output_type": "stream",
     "text": [
      "{0: 'White', 1: 'White', 2: 'White', 3: 'White', 4: 'White', 5: 'White', 6: 'White', 7: 'White', 8: 'White', 9: 'White', 10: 'Red', 11: 'Red', 12: 'Red', 13: 'Red', 14: 'Red', 15: 'Red', 16: 'Red', 17: 'Red', 18: 'Red', 19: 'Red', 20: 'Red', 21: 'Red', 22: 'Red', 23: 'Red', 24: 'Red', 25: 'Red', 26: 'Red', 27: 'Red', 28: 'Red', 29: 'Red', 30: 'Green', 31: 'Green', 32: 'Green', 33: 'Green', 34: 'Green', 35: 'Green', 36: 'Green', 37: 'Green', 38: 'Green', 39: 'Green', 40: 'Green', 41: 'Green', 42: 'Green', 43: 'Green', 44: 'Green', 45: 'Green', 46: 'Green', 47: 'Green', 48: 'Green', 49: 'Green', 50: 'Green', 51: 'Green', 52: 'Green', 53: 'Green', 54: 'Green', 55: 'Green', 56: 'Green', 57: 'Green', 58: 'Green', 59: 'Green'}\n",
      "The probability of 3 white and 2 red is: 0.6%\n",
      "The probability of all the same color is: 3.0%\n"
     ]
    }
   ],
   "source": [
    "ball_box = {}\n",
    "\n",
    "# Create the box of balls\n",
    "for i in range(60):\n",
    "    if i < 10:\n",
    "        ball_box[i] = \"White\"\n",
    "    elif (i > 9) and (i < 30):\n",
    "        ball_box[i] = \"Red\"\n",
    "    else:\n",
    "        ball_box[i] = \"Green\"\n",
    "\n",
    "print(ball_box)\n",
    "            \n",
    "def take_balls(n_simulations = 1000):\n",
    "    count_1 = 0\n",
    "    count_2 = 0\n",
    "\n",
    "    for i in range(n_simulations):\n",
    "        colors = []\n",
    "\n",
    "        # Take 5 balls from the box\n",
    "        for i in range(5):\n",
    "            colors.append(ball_box[np.random.randint(0, 59)])\n",
    "\n",
    "        # Convert list to Numpy array for better filtering\n",
    "        colors = np.array(colors)\n",
    "        \n",
    "        white_balls = sum(colors == \"White\")\n",
    "        red_balls = sum(colors == \"Red\")\n",
    "        green_balls = sum(colors == \"Green\")\n",
    "\n",
    "        # Decide if we should add it to the count:\n",
    "        if (white_balls == 3) and (red_balls == 2):\n",
    "            count_1 += 1\n",
    "        \n",
    "        if (white_balls == 5) or (red_balls == 5) or (green_balls == 5):\n",
    "            count_2 += 1\n",
    "    \n",
    "    return count_1 / n_simulations, count_2 / n_simulations\n",
    "\n",
    "probabilities = take_balls(1000)\n",
    "\n",
    "print(f\"The probability of 3 white and 2 red is: {np.round(probabilities[0] * 100, 2)}%\")\n",
    "print(f\"The probability of all the same color is: {np.round(probabilities[1] * 100, 2)}%\")\n",
    "            \n"
   ]
  }
 ],
 "metadata": {
  "kernelspec": {
   "display_name": "Python 3",
   "language": "python",
   "name": "python3"
  },
  "language_info": {
   "codemirror_mode": {
    "name": "ipython",
    "version": 3
   },
   "file_extension": ".py",
   "mimetype": "text/x-python",
   "name": "python",
   "nbconvert_exporter": "python",
   "pygments_lexer": "ipython3",
   "version": "3.11.4"
  }
 },
 "nbformat": 4,
 "nbformat_minor": 5
}
